{
 "cells": [
  {
   "cell_type": "markdown",
   "source": [
    "# 对爬取下来的评论进行基本的统计"
   ],
   "metadata": {
    "collapsed": false
   }
  },
  {
   "cell_type": "code",
   "execution_count": null,
   "metadata": {
    "collapsed": true
   },
   "outputs": [],
   "source": [
    "import jieba as jb\n",
    "import numpy as np\n",
    "import jieba.posseg"
   ]
  },
  {
   "cell_type": "code",
   "execution_count": null,
   "outputs": [],
   "source": [
    "resList = []\n",
    "with open(r'output//bilibili2.txt', 'r', encoding='utf-8') as res:\n",
    "    for i in res:\n",
    "        resList.append(i)"
   ],
   "metadata": {
    "collapsed": false
   }
  },
  {
   "cell_type": "code",
   "execution_count": null,
   "outputs": [],
   "source": [
    "len(resList)"
   ],
   "metadata": {
    "collapsed": false
   }
  },
  {
   "cell_type": "code",
   "execution_count": null,
   "outputs": [],
   "source": [
    "string = ''\n",
    "for i in resList:\n",
    "    string += i\n",
    "string = string.replace('\\n', '')"
   ],
   "metadata": {
    "collapsed": false
   }
  },
  {
   "cell_type": "code",
   "execution_count": null,
   "outputs": [],
   "source": [
    "string"
   ],
   "metadata": {
    "collapsed": false
   }
  },
  {
   "cell_type": "markdown",
   "source": [
    "### 使用jieba对词汇按词性进行分类"
   ],
   "metadata": {
    "collapsed": false
   }
  },
  {
   "cell_type": "code",
   "execution_count": null,
   "outputs": [],
   "source": [
    "import re\n",
    "\n",
    "a = re.sub('\\[.*?\\]', '', string)\n"
   ],
   "metadata": {
    "collapsed": false
   }
  },
  {
   "cell_type": "code",
   "execution_count": null,
   "outputs": [],
   "source": [
    "target_word_type = ['n', 'v', 'a']\n",
    "adj_list = []\n",
    "verb_list = []\n",
    "noun_list = []"
   ],
   "metadata": {
    "collapsed": false
   }
  },
  {
   "cell_type": "code",
   "execution_count": null,
   "outputs": [],
   "source": [
    "def is_useful_words(word):\n",
    "    stopwords = ['我', '了', '在', '和', '是', '作者', '中', '那', '也', '里', '没有', '着', '都', '但', '被', '到',\n",
    "                 '与', '使',\n",
    "                 '很', '像', '说', '啊', '把', '又', '他', '之', 'w', 'W', '的', '你们', '你', '我们', '上', '而', '这',\n",
    "                 '南翔', '可以', 'doge', '就', '系列', '视频', '东西', '人', '吗', '打', 'call', '热词', '真的', '博主',\n",
    "                 '用', '美食', '做', '不是', '吧', '吃', '至尊', '脱单', '为什么', '至尊', '看', '然后', '大', '辣',\n",
    "                 '眼睛', '不', '看', '主', '现在', '会', '什么', '主', '就是', '哭', '笑', '能', '知道', '来', '所以',\n",
    "                 '好像', '因为', '区', '个', '没', '朋友', '不能', '还', '以为', '有', '想', '居然', '已经', '出来',\n",
    "                 '再', '才', '这个', '这次', '喜欢', '有', '屁', '看到', '给', '这种', '一', 'cry', '帮忙', '下',\n",
    "                 '下次', '自己', '一定', '这样', '太', '让', '吃瓜', '需要', '觉得', '找', '呢', '每次', '更多', '剩下',\n",
    "                 '有人', '叫', '直接', '还是', '真', '一直', '呲牙', '后面', '需要', '觉得', '代替', '一个', '好',\n",
    "                 '可能',\n",
    "                 '下期', 'tv', '从', '对', '买', '滑稽', '一个', '怎么', '那个', '薅', '羊毛', '热乎', '谁', '要',\n",
    "                 '做饭', '回复', '可能', '心心', '奢侈品', '评论', '三连', '不爱', '吃饭', '啦', '这么', '得', '眼',\n",
    "                 '斜眼', '还有', '大大', '应该', '不会', '跟', '或者', '去', '知识', '的话', '烤全羊', '完', '啥',\n",
    "                 '手工', '怎么样', '最后', '是不是', '关注', '忘', '写', '开始', '到底', '变成', '呲牙', '大哭', '一只',\n",
    "                 '量', '站', '多', '她', '子柒', '李子', '这些', '但是', '前', '柒', '过', '呀', '时候', '啊啊啊', '更',\n",
    "                 '投币', '为', '哇', '逼', '小', '子', '比', '前排']\n",
    "    if word in stopwords:\n",
    "        return False\n",
    "    else:\n",
    "        return True"
   ],
   "metadata": {
    "collapsed": false
   }
  },
  {
   "cell_type": "code",
   "execution_count": null,
   "outputs": [],
   "source": [
    "for i in jieba.posseg.cut(string):\n",
    "    if is_useful_words(i.word):\n",
    "        if i.flag == 'a':\n",
    "            adj_list.append(i.word)\n",
    "        elif i.flag == 'v':\n",
    "            verb_list.append(i.word)\n",
    "        elif i.flag == 'n':\n",
    "            noun_list.append(i.word)"
   ],
   "metadata": {
    "collapsed": false
   }
  },
  {
   "cell_type": "code",
   "execution_count": null,
   "outputs": [],
   "source": [
    "def get_dict(li):\n",
    "    dic = {}\n",
    "    for i in li:\n",
    "        dic[i] = dic.get(i, 0) + 1\n",
    "    dic = sorted(dic.items(), reverse=True, key=lambda kv: (kv[1], kv[0]))\n",
    "    return dic"
   ],
   "metadata": {
    "collapsed": false
   }
  },
  {
   "cell_type": "code",
   "execution_count": null,
   "outputs": [],
   "source": [
    "adj_dict, noun_dict, verb_dict = get_dict(adj_list), get_dict(noun_list), get_dict(verb_list)"
   ],
   "metadata": {
    "collapsed": false
   }
  },
  {
   "cell_type": "code",
   "execution_count": null,
   "outputs": [],
   "source": [
    "import matplotlib.pyplot as plt\n",
    "\n",
    "plt.rcParams[\"font.sans-serif\"] = [\"SimHei\"]  #设置字体\n",
    "plt.rcParams[\"axes.unicode_minus\"] = False  #该语句解决图像中的“-”负号的乱码问题"
   ],
   "metadata": {
    "collapsed": false
   }
  },
  {
   "cell_type": "code",
   "execution_count": null,
   "outputs": [],
   "source": [
    "def plot_img(li, type):\n",
    "    TOTAL_COUNTS = len(li)\n",
    "    words = []\n",
    "    counts = []\n",
    "    i = 0\n",
    "    for item in li:\n",
    "        words.append(item[0])\n",
    "        counts.append(item[-1] / TOTAL_COUNTS)\n",
    "        i += 1\n",
    "        if i > 50:\n",
    "            break\n",
    "    plt.figure(figsize=(15, 15))\n",
    "    plt.barh(words, counts)\n",
    "    plt.xticks(rotation=90, fontsize=12)\n",
    "    dic = {\n",
    "        'adj': '形容词',\n",
    "        'noun': '名词',\n",
    "        'verb': '动词'\n",
    "    }\n",
    "    plt.xlabel(\"各词汇出现频率\")\n",
    "    plt.title(\"热门{0}，共计${1}$种\".format(dic.get(type), TOTAL_COUNTS))\n",
    "    plt.ylabel(\"词汇\")\n",
    "    plt.show()"
   ],
   "metadata": {
    "collapsed": false
   }
  },
  {
   "cell_type": "code",
   "execution_count": null,
   "outputs": [],
   "source": [
    "adj_dict"
   ],
   "metadata": {
    "collapsed": false
   }
  },
  {
   "cell_type": "code",
   "execution_count": null,
   "outputs": [],
   "source": [
    "plot_img(noun_dict, 'noun')"
   ],
   "metadata": {
    "collapsed": false
   }
  },
  {
   "cell_type": "code",
   "execution_count": null,
   "outputs": [],
   "source": [
    "plot_img(verb_dict, 'verb')"
   ],
   "metadata": {
    "collapsed": false
   }
  },
  {
   "cell_type": "code",
   "execution_count": null,
   "outputs": [],
   "source": [],
   "metadata": {
    "collapsed": false
   }
  }
 ],
 "metadata": {
  "kernelspec": {
   "display_name": "Python 3",
   "language": "python",
   "name": "python3"
  },
  "language_info": {
   "codemirror_mode": {
    "name": "ipython",
    "version": 2
   },
   "file_extension": ".py",
   "mimetype": "text/x-python",
   "name": "python",
   "nbconvert_exporter": "python",
   "pygments_lexer": "ipython2",
   "version": "2.7.6"
  }
 },
 "nbformat": 4,
 "nbformat_minor": 0
}
