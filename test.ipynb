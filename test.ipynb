{
 "cells": [
  {
   "cell_type": "markdown",
   "source": [
    "# 爬虫"
   ],
   "metadata": {
    "collapsed": false
   }
  },
  {
   "cell_type": "markdown",
   "source": [
    "| 参数 | 对应的名称       |\n",
    "| ---- | ---------------- |\n",
    "| f23  | 市净率           |\n",
    "| f14  | 股票名称         |\n",
    "| f12  | 股票代码         |\n",
    "| f9   | 市盈率           |\n",
    "| f2   | 最新价           |\n",
    "| f3   | 涨跌幅（百分比） |\n",
    "| f4   | 涨跌额           |\n",
    "| f5   | 成交量           |\n",
    "| f6   | 成交额           |\n",
    "| f7   | 振幅             |\n",
    "| f10  | 量比             |\n",
    "| f15  | 最高             |\n",
    "| f16  | 最低             |\n",
    "| f17  | 今开             |\n",
    "| f18  | 昨收             |"
   ],
   "metadata": {
    "collapsed": false
   }
  },
  {
   "cell_type": "markdown",
   "source": [
    "## 爬取东方财富网股票信息"
   ],
   "metadata": {
    "collapsed": false
   }
  },
  {
   "cell_type": "code",
   "execution_count": null,
   "outputs": [],
   "source": [
    "import json\n",
    "import pandas as pd\n",
    "import re\n",
    "import requests\n",
    "\n",
    "dic = {\n",
    "    'f23': '市净率',\n",
    "    'f14': '股票名称',\n",
    "    'f12': '股票代码',\n",
    "    'f9': '市盈率',\n",
    "    'f2': '最新价',\n",
    "    'f3': '涨跌幅（百分比）',\n",
    "    'f4': '涨跌额',\n",
    "    'f5': '成交量',\n",
    "    'f6': '成交额',\n",
    "    'f7': '振幅',\n",
    "    'f10': '量比',\n",
    "    'f15': '最高',\n",
    "    'f16': '最低',\n",
    "    'f17': '今开',\n",
    "    'f18': '昨收'\n",
    "}\n",
    "\n",
    "\n",
    "def func(request_url):\n",
    "    res = requests.get(request_url, headers=headers)\n",
    "    res = res.text\n",
    "    regex = re.compile(r\"(?=\\()(.*)(?<=\\))\")\n",
    "\n",
    "    jsonString = regex.findall(res)[-1]\n",
    "    jsonString = json.loads(jsonString.strip('()'))['data']['diff']\n",
    "\n",
    "    df = pd.DataFrame(jsonString)\n",
    "    df = df.rename(columns=dic)\n",
    "    df = df.drop(['f1'], axis=1)\n",
    "\n",
    "    return df"
   ],
   "metadata": {
    "collapsed": false
   }
  },
  {
   "cell_type": "code",
   "execution_count": null,
   "outputs": [],
   "source": [
    "import requests\n",
    "\n",
    "headers = {\n",
    "    'User-Agent':\n",
    "        'Mozilla/5.0 (Windows NT 10.0; Win64; x64; rv:100.0) Gecko/20100101 Firefox/100.0',\n",
    "    'Cookie': 'bid=03QzRATVvZI; douban-fav-remind=1; __gads=ID=235109b723938ba4-2224407c19d8000c:T=1668039578:RT=1668039578:S=ALNI_MYFFJ5HU2_bVR7eqoxZtDCAQBeaiA; __gpi=UID=00000b78f6a2bf6c:T=1668039578:RT=1668325134:S=ALNI_MZJXHay5I4KEyvwl_-VLHskRpbIyA; __utma=30149280.1863681919.1668039577.1668325999.1668341717.4; __utmz=30149280.1668325999.3.3.utmcsr=baidu|utmccn=(organic)|utmcmd=organic; push_noty_num=0; push_doumail_num=0; __utmv=30149280.17848; gr_user_id=dccf8534-bc90-42d8-b1be-c133a8b1daf7; ap_v=0,6.0; __utmb=30149280.9.8.1668341833502; __utmc=30149280; __utmt_douban=1; __utmt_t1=1; RT=s=1668341920729&r=https%3A%2F%2Fbook.douban.com%2Fsubject%2F6025373%2Fcomments%2F%3Fstart%3D220%26amp%3Blimit%3D20%26amp%3Bstatus%3DP%26amp%3Bsort%3Dnew_score; dbcl2=\"178484147:wK+jx5QTARI\"; ck=PDDZ'\n",
    "}\n",
    "request_url = 'https://datacenter-web.eastmoney.com/api/data/v1/get?callback=jQuery1123041918013343973093_1680531566220&sortColumns=REPORT_DATE&sortTypes=-1&pageSize=10&pageNumber=1&columns=ALL&filter=%28SECURITY_CODE%3D%22300624%22%29&reportName=RPT_FCI_PERFORMANCEE'\n",
    "res = requests.get(request_url, headers=headers)\n",
    "res"
   ],
   "metadata": {
    "collapsed": false
   }
  },
  {
   "cell_type": "code",
   "execution_count": null,
   "outputs": [],
   "source": [
    "res.text"
   ],
   "metadata": {
    "collapsed": false
   }
  },
  {
   "cell_type": "code",
   "execution_count": null,
   "outputs": [],
   "source": [
    "# 主要内容\n",
    "import requests  # 引入库\n",
    "\n",
    "headers = {\n",
    "    'User-Agent':\n",
    "        'Mozilla/5.0 (Windows NT 10.0; Win64; x64; rv:100.0) Gecko/20100101 Firefox/100.0',\n",
    "    'Cookie': 'bid=03QzRATVvZI; douban-fav-remind=1; __gads=ID=235109b723938ba4-2224407c19d8000c:T=1668039578:RT=1668039578:S=ALNI_MYFFJ5HU2_bVR7eqoxZtDCAQBeaiA; __gpi=UID=00000b78f6a2bf6c:T=1668039578:RT=1668325134:S=ALNI_MZJXHay5I4KEyvwl_-VLHskRpbIyA; __utma=30149280.1863681919.1668039577.1668325999.1668341717.4; __utmz=30149280.1668325999.3.3.utmcsr=baidu|utmccn=(organic)|utmcmd=organic; push_noty_num=0; push_doumail_num=0; __utmv=30149280.17848; gr_user_id=dccf8534-bc90-42d8-b1be-c133a8b1daf7; ap_v=0,6.0; __utmb=30149280.9.8.1668341833502; __utmc=30149280; __utmt_douban=1; __utmt_t1=1; RT=s=1668341920729&r=https%3A%2F%2Fbook.douban.com%2Fsubject%2F6025373%2Fcomments%2F%3Fstart%3D220%26amp%3Blimit%3D20%26amp%3Bstatus%3DP%26amp%3Bsort%3Dnew_score; dbcl2=\"178484147:wK+jx5QTARI\"; ck=PDDZ'\n",
    "}  # 请求头，表明身份\n",
    "request_url = 'https://datacenter-web.eastmoney.com/api/data/v1/get?callback=jQuery1123041918013343973093_1680531566220&sortColumns=REPORT_DATE&sortTypes=-1&pageSize=10&pageNumber=1&columns=ALL&filter=%28SECURITY_CODE%3D%22300624%22%29&reportName=RPT_FCI_PERFORMANCEE'  # 请求URl，表示要什么数据\n",
    "\n",
    "res = requests.get(request_url, headers=headers)  # 把要写的内容填到这个里面,res是返回的对象\n",
    "\n",
    "content = res.text  # 这个就是你需要的数据，但是是原始数据\n",
    "\n",
    "import re  # 导入库\n",
    "\n",
    "regex = re.compile(r\"(?=\\()(.*)(?<=\\))\")  # 创建正则表达式\n",
    "\n",
    "jsonString = regex.findall(content)[-1]  # 初步处理以后的数据\n",
    "\n",
    "jsonString = json.loads(jsonString.strip('()'))['result']['data']  # json.loads()函数，把你需要的数据创建成为字典。你再观察一下字典。\n",
    "\n",
    "\"\"\"\n",
    "比如这个字典是这样的：\n",
    "a = {\n",
    "'a' = 1,\n",
    "'b' = 2\n",
    "}\n",
    "你通过a['a']就可以访问到1这个数据。\n",
    "存在多层嵌套的情况你就多写几个\n",
    "\"\"\""
   ],
   "metadata": {
    "collapsed": false
   }
  },
  {
   "cell_type": "markdown",
   "source": [
    "## 爬取知乎评论"
   ],
   "metadata": {
    "collapsed": false
   }
  },
  {
   "cell_type": "code",
   "execution_count": null,
   "outputs": [],
   "source": [
    "import requests\n",
    "import json\n",
    "\n",
    "headers = {\n",
    "    'User-Agent':\n",
    "        'Mozilla/5.0 (Windows NT 10.0; Win64; x64; rv:100.0) Gecko/20100101 Firefox/100.0',\n",
    "    'Cookie': 'bid=03QzRATVvZI; douban-fav-remind=1; __gads=ID=235109b723938ba4-2224407c19d8000c:T=1668039578:RT=1668039578:S=ALNI_MYFFJ5HU2_bVR7eqoxZtDCAQBeaiA; __gpi=UID=00000b78f6a2bf6c:T=1668039578:RT=1668325134:S=ALNI_MZJXHay5I4KEyvwl_-VLHskRpbIyA; __utma=30149280.1863681919.1668039577.1668325999.1668341717.4; __utmz=30149280.1668325999.3.3.utmcsr=baidu|utmccn=(organic)|utmcmd=organic; push_noty_num=0; push_doumail_num=0; __utmv=30149280.17848; gr_user_id=dccf8534-bc90-42d8-b1be-c133a8b1daf7; ap_v=0,6.0; __utmb=30149280.9.8.1668341833502; __utmc=30149280; __utmt_douban=1; __utmt_t1=1; RT=s=1668341920729&r=https%3A%2F%2Fbook.douban.com%2Fsubject%2F6025373%2Fcomments%2F%3Fstart%3D220%26amp%3Blimit%3D20%26amp%3Bstatus%3DP%26amp%3Bsort%3Dnew_score; dbcl2=\"178484147:wK+jx5QTARI\"; ck=PDDZ'\n",
    "}\n",
    "\n",
    "request_url = r'https://www.zhihu.com/api/v4/comment_v5/answers/1420850902/root_comment?order_by=score&limit=20&offset='\n",
    "\n",
    "res = requests.get(request_url, headers)\n",
    "res"
   ],
   "metadata": {
    "collapsed": false
   }
  },
  {
   "cell_type": "code",
   "execution_count": null,
   "outputs": [],
   "source": [
    "res.text"
   ],
   "metadata": {
    "collapsed": false
   }
  },
  {
   "cell_type": "code",
   "execution_count": null,
   "outputs": [],
   "source": [
    "dick = json.loads(res.text)"
   ],
   "metadata": {
    "collapsed": false
   }
  },
  {
   "cell_type": "code",
   "execution_count": null,
   "outputs": [],
   "source": [
    "type(dick)"
   ],
   "metadata": {
    "collapsed": false
   }
  },
  {
   "cell_type": "code",
   "execution_count": null,
   "outputs": [],
   "source": [
    "# dick['data'][1]\n",
    "comment_list = []\n",
    "for data in dick['data']:\n",
    "    comment_list.append(data['content'])\n",
    "    for child_comment in data['child_comments']:\n",
    "        comment_list.append(child_comment['content'])\n",
    "\n",
    "comment_list"
   ],
   "metadata": {
    "collapsed": false
   }
  },
  {
   "cell_type": "code",
   "execution_count": null,
   "outputs": [],
   "source": [
    "dick['data'][1]['child_comments'][-1]['content']"
   ],
   "metadata": {
    "collapsed": false
   }
  },
  {
   "cell_type": "code",
   "execution_count": null,
   "outputs": [],
   "source": [
    "string = dick['paging']['is_end']\n",
    "# requests.get(string,headers=headers).content\n",
    "type(string)"
   ],
   "metadata": {
    "collapsed": false
   }
  },
  {
   "cell_type": "code",
   "execution_count": null,
   "outputs": [],
   "source": [
    "r'https://www.zhihu.com/api/v4/comment_v5/answers/591855450/root_comment?order_by=score&limit=20&offset='\n",
    "\n",
    "\n",
    "def zhihu_comment(url):\n",
    "    content = requests.get(url, headers=headers)\n",
    "    dick = json.loads(content.content)\n",
    "    comment_list = []\n",
    "    for data in dick['data']:\n",
    "        comment_list.append(data['content'])\n",
    "        for child_comment in data['child_comments']:\n",
    "            comment_list.append(child_comment['content'])\n",
    "\n",
    "\n",
    "    while not dick['paging']['is_end']:\n",
    "        next_url = dick['paging']['next']\n",
    "        dick = json.loads(requests.get(next_url, headers=headers).content)\n",
    "        for data in dick['data']:\n",
    "            comment_list.append(data['content'])\n",
    "            for child_comment in data['child_comments']:\n",
    "                comment_list.append(child_comment['content'])\n",
    "\n",
    "    return comment_list"
   ],
   "metadata": {
    "collapsed": false
   }
  },
  {
   "cell_type": "code",
   "execution_count": null,
   "outputs": [],
   "source": [
    "li = zhihu_comment(r'https://www.zhihu.com/api/v4/comment_v5/answers/2649393382/root_comment?order_by=score&limit=20&offset=')"
   ],
   "metadata": {
    "collapsed": false
   }
  },
  {
   "cell_type": "code",
   "execution_count": null,
   "outputs": [],
   "source": [
    "len(li)"
   ],
   "metadata": {
    "collapsed": false
   }
  },
  {
   "cell_type": "code",
   "execution_count": null,
   "outputs": [],
   "source": [
    "with open('zhihu.txt','w',encoding='utf-8') as f:\n",
    "    for i in li:\n",
    "        f.write(i+'\\n')"
   ],
   "metadata": {
    "collapsed": false
   }
  },
  {
   "cell_type": "markdown",
   "source": [
    "## 爬取B站评论"
   ],
   "metadata": {
    "collapsed": false
   }
  },
  {
   "cell_type": "code",
   "execution_count": null,
   "outputs": [],
   "source": [
    "cookie = \"buvid3=24F31FD6-220B-2314-1791-29B4B19101ED38432infoc; b_nut=1673523238; i-wanna-go-back=-1; b_ut=5; _uuid=4A17E755-4E4A-FC3F-10F3F-6DC2CD56746439320infoc; buvid_fp=7e77a1e02fb82712142f58f8bf266314; buvid4=75762ED4-0F59-F6E5-CC13-AF2D0A78746839991-023011219-Yy4vm8XQ%2BSYNBA%2FUziFw6g%3D%3D; fingerprint=08c90d6be64a7cd26d231ad186351599; buvid_fp_plain=undefined; SESSDATA=9494fbc9%2C1689075608%2C7bd24%2A11; bili_jct=3086cea8aed34ae2abe38fd23845c678; DedeUserID=203460504; DedeUserID__ckMd5=79d56fdab8baf61b; nostalgia_conf=-1; CURRENT_FNVAL=4048; rpdid=|(u))u~)uRJJ0J'uY~JlkJYJR; PVID=1; LIVE_BUVID=AUTO8416761100285718; header_theme_version=CLOSE; home_feed_column=5; bp_video_offset_203460504=778836669434429400; CURRENT_PID=49587320-d2f4-11ed-84e7-0d474b46558f; b_lsid=10FE652FA_18764615EA2; share_source_origin=QQ; bsource=share_source_qqchat; sid=5q9k8s03\"\n"
   ],
   "metadata": {
    "collapsed": false
   }
  },
  {
   "cell_type": "code",
   "execution_count": null,
   "outputs": [],
   "source": [
    "bilibili_url = r\"https://api.bilibili.com/x/v2/reply/main?csrf=3086cea8aed34ae2abe38fd23845c678&mode=3&next=0&oid=936714657&plat=1&seek_rpid=&type=1\"\n",
    "\n",
    "res = requests.get(bilibili_url,cookies=cookie,headers = headers)"
   ],
   "metadata": {
    "collapsed": false
   }
  },
  {
   "cell_type": "code",
   "execution_count": null,
   "outputs": [],
   "source": [
    "dic = json.loads(res.content)"
   ],
   "metadata": {
    "collapsed": false
   }
  },
  {
   "cell_type": "code",
   "execution_count": null,
   "outputs": [],
   "source": [
    "dic"
   ],
   "metadata": {
    "collapsed": false
   }
  },
  {
   "cell_type": "code",
   "execution_count": null,
   "outputs": [],
   "source": [
    "res = requests.get(r'https://www2.lightpollutionmap.info/QueryRaster/?qk=MTY4MTAxODU5NDk0Njtpc3Vja2RpY2tzOik%3D&ql=wa_2015&qt=point&qd=113.6832100040374%2C34.747523633102915',headers = headers)"
   ],
   "metadata": {
    "collapsed": false
   }
  },
  {
   "cell_type": "code",
   "execution_count": null,
   "outputs": [],
   "source": [
    "res.content"
   ],
   "metadata": {
    "collapsed": false
   }
  },
  {
   "cell_type": "code",
   "execution_count": null,
   "outputs": [],
   "source": [],
   "metadata": {
    "collapsed": false
   }
  },
  {
   "cell_type": "code",
   "execution_count": null,
   "outputs": [],
   "source": [
    "import requests\n",
    "import json\n",
    "\n",
    "headers = {\n",
    "    'User=Agent':'Mozilla/5.0 (Windows NT 10.0; Win64; x64; rv:107.0) Gecko/20100101 Firefox/107.0',\n",
    "    'Cookie':'PC_TOKEN=de15cf9de8; SUBP=0033WrSXqPxfM725Ws9jqgMF55529P9D9WW.ah1ZCkrZli1KX4braBpx5JpX5KzhUgL.Fo-4eK54eh.ReKe2dJLoI7f_dcvVqcyDdsBEehz7; WBPSESS=Q4mocWB9j3toNvru27wa1TepLPXtAnu2XAXlhijHDmRDo3c7fhos1X1YsQ5sCQmRNcVN9W4HihTP2x1ITr_j-_bW93ayUrSLA82jgoc18sP1EvFZtdCP_1y9FluueQF5vY73jyYNeLx9uHFkOiAdvQ==; SINAGLOBAL=2129311165616.0813.1669013358502; ULV=1669013911487:2:2:2:5684428808012.402.1669013911365:1669013358503; ALF=1700549732; SUB=_2A25Of1C2DeRhGeNH6lIY8CfEyj-IHXVtDcV-rDV8PUNbmtAfLRTWkW9NSsnp9C-go4Q2I-P2WKyciynFznYmW2Ve; SSOLoginState=1669013734; XSRF-TOKEN=11QMGfwtyRXSFeqt4EtiCVXV; _s_tentry=weibo.com; Apache=5684428808012.402.1669013911365'\n",
    "}\n",
    "\n",
    "\n",
    "bilibili_url = r\"https://api.bilibili.com/x/v2/reply/main?csrf=3086cea8aed34ae2abe38fd23845c678&mode=3&next=0&oid=254853690&plat=1&seek_rpid=&type=1\"\n",
    "\n",
    "res = requests.get(bilibili_url,headers = headers)\n",
    "\n",
    "dic = json.loads(res.content)\n",
    "\n",
    "comment_list = []\n",
    "while not dic['data']['cursor']['is_end']:\n",
    "\n",
    "    for reply in dic['data']['replies']:\n",
    "        comment_list.append(reply['content']['message'])\n",
    "        if reply['replies'] is not None:\n",
    "            for replyss in reply['replies']:\n",
    "                comment_list.append(replyss['content']['message'])\n",
    "    next = 0\n",
    "    if not dic['data']['cursor']['is_end']:\n",
    "        next = dic['data']['cursor']['next']\n",
    "    next_url = r'https://api.bilibili.com/x/v2/reply/main?csrf=3086cea8aed34ae2abe38fd23845c678&mode=3&next={0}&oid=860715486&plat=1&seek_rpid=&type=1'.format(next)\n",
    "    dic = json.loads(requests.get(next_url,headers=headers).content)\n",
    "\n"
   ],
   "metadata": {
    "collapsed": false
   }
  },
  {
   "cell_type": "code",
   "execution_count": null,
   "outputs": [],
   "source": [
    "len(comment_list)"
   ],
   "metadata": {
    "collapsed": false
   }
  },
  {
   "cell_type": "code",
   "execution_count": null,
   "outputs": [],
   "source": [
    "with open('output\\\\20230423\\\\bilibili.txt','a+',encoding='utf-8') as f:\n",
    "    for i in comment_list:\n",
    "        f.write(i+'\\n')"
   ],
   "metadata": {
    "collapsed": false
   }
  },
  {
   "cell_type": "code",
   "execution_count": null,
   "outputs": [],
   "source": [
    "import pandas as pd\n",
    "\n",
    "\n",
    "# comment_list = []\n",
    "with open(\"bilibili2.txt\",'r',encoding='utf-8') as file:\n",
    "    li = file.readlines()\n",
    "li = [i.strip() for i in li]\n"
   ],
   "metadata": {
    "collapsed": false
   }
  },
  {
   "cell_type": "code",
   "execution_count": null,
   "outputs": [],
   "source": [
    "series = pd.Series(li)\n",
    "series.head()"
   ],
   "metadata": {
    "collapsed": false
   }
  },
  {
   "cell_type": "code",
   "execution_count": null,
   "outputs": [],
   "source": [
    "series.to_excel('comment0409.xlsx')"
   ],
   "metadata": {
    "collapsed": false
   }
  },
  {
   "cell_type": "code",
   "execution_count": null,
   "outputs": [],
   "source": [
    "import pandas as pd\n",
    "import numpy as np\n",
    "\n",
    "df = pd.read_csv(r\"D:\\documents\\1-2000.CSV\")\n",
    "df"
   ],
   "metadata": {
    "collapsed": false
   }
  },
  {
   "cell_type": "code",
   "execution_count": null,
   "outputs": [],
   "source": [
    "df = df.drop([\"Unnamed: 10\",\"Unnamed: 8\",\"Unnamed: 2\",\"Unnamed: 3\",\"Unnamed: 4\",\"Unnamed: 5\",\"Unnamed: 6\",\"Unnamed: 7\",\"Unnamed: 8\",\"Unnamed: 9\",\"Unnamed: 11\",\"Unnamed: 12\",\"idx\"],axis=1)"
   ],
   "metadata": {
    "collapsed": false
   }
  },
  {
   "cell_type": "code",
   "execution_count": null,
   "outputs": [],
   "source": [
    "df"
   ],
   "metadata": {
    "collapsed": false
   }
  },
  {
   "cell_type": "code",
   "execution_count": null,
   "outputs": [],
   "source": [
    "df = pd.read_csv(\"temp.csv\")\n",
    "df = df.drop(['Unnamed: 0'],axis=1)\n",
    "li = df.comment.to_list()"
   ],
   "metadata": {
    "collapsed": false
   }
  },
  {
   "cell_type": "code",
   "execution_count": null,
   "outputs": [],
   "source": [
    "li = [i for i in li if type(i) == str]"
   ],
   "metadata": {
    "collapsed": false
   }
  },
  {
   "cell_type": "code",
   "execution_count": null,
   "outputs": [],
   "source": [
    "string  = ''\n",
    "for i in li:\n",
    "    string +=i\n",
    "string"
   ],
   "metadata": {
    "collapsed": false
   }
  },
  {
   "cell_type": "code",
   "execution_count": null,
   "outputs": [],
   "source": [
    "with open(\"output/20230423/bilibili.txt\",'r',encoding='utf-8') as file:\n",
    "    li = file.readlines()\n",
    "li = [i.strip() for i in li]"
   ],
   "metadata": {
    "collapsed": false
   }
  },
  {
   "cell_type": "code",
   "execution_count": null,
   "outputs": [],
   "source": [
    "string  = ''\n",
    "for i in li:\n",
    "    string +=i"
   ],
   "metadata": {
    "collapsed": false
   }
  },
  {
   "cell_type": "code",
   "execution_count": null,
   "outputs": [],
   "source": [
    "\n",
    "import jieba\n",
    "import matplotlib.pyplot as plt\n",
    "from wordcloud import WordCloud, ImageColorGenerator, STOPWORDS\n",
    "\n",
    "\n",
    "\n",
    "wordList = \" \".join(jieba.lcut(string))\n",
    "\n",
    "cloud = WordCloud(\n",
    "    width=2000,height=1600\n",
    "    , background_color=\"white\"\n",
    "    , mode='RGB'\n",
    "    # , mask=backgroundImg\n",
    "    , max_words=1000\n",
    "    , max_font_size=350\n",
    "    , font_path=r'C:\\Windows\\Fonts\\simhei.ttf'  # 必须要添加中文字体地址,否则会生成方框\n",
    "    , relative_scaling=0.6\n",
    "    , random_state=50\n",
    "    ,colormap='summer'\n",
    "    , stopwords=STOPWORDS.update(\n",
    "        ['我', '了', '在', '和', '是', '作者', '中', '那', '也', '里', '没有', '着', '都', '但', '被', '到', '与', '使',\n",
    "         '很', '像', '说', '啊', '把', '又', '他', '之', 'w', 'W', '的', '你们', '你', '我们', '上', '而', '这','南翔','可以','doge','就','系列','视频','东西','人','吗','打','call','热词','真的','博主','用','美食','做','不是' ,'吧','吃','至尊','脱单','为什么','至尊','看','然后','大','辣','眼睛','不','看','主','现在','会','什么','主','就是','哭','笑','能','知道','来','所以','好像','因为','区','个','没','朋友','不能','还','以为','有','想','居然','已经','出来','再','才','这个','这次','喜欢','有','屁','看到','给','这种','一','cry','帮忙','下','下次','自己','一定','这样','太','让','吃瓜','需要','觉得','找','呢','每次','更多','剩下','有人','叫','直接','还是','真','一直','呲牙','后面','需要','觉得','代替'\n",
    "         '一个','好','可能','下期','tv','从','对','买','滑稽','一个','怎么','那个','薅','羊毛','热乎','谁','要','做饭','回复','可能','心心','奢侈品','评论','三连','不爱','吃饭','啦','这么','得','眼','斜眼','还有','大大','应该','不会','跟','或者','去','知识','的话','烤全羊','完','啥','手工','怎么样','最后','是不是','关注','忘','写','开始','到底','变成','呲牙','大哭','一只'])\n",
    ").generate(wordList)\n",
    "\n",
    "plt.imshow(cloud)\n",
    "plt.axis(\"off\")\n",
    "plt.show()\n",
    "cloud.to_file(\"output\\\\20230423\\\\bilibili_cloud.jpg\")"
   ],
   "metadata": {
    "collapsed": false
   }
  },
  {
   "cell_type": "code",
   "execution_count": null,
   "outputs": [],
   "source": [
    "with open('output/0415.txt','w',encoding='utf-8') as f:\n",
    "    for i in li:\n",
    "        f.write(i+'\\n')"
   ],
   "metadata": {
    "collapsed": false
   }
  },
  {
   "cell_type": "code",
   "execution_count": null,
   "outputs": [],
   "source": [
    "y = 1241\n",
    "type(y) == float"
   ],
   "metadata": {
    "collapsed": false
   }
  },
  {
   "cell_type": "code",
   "execution_count": null,
   "outputs": [],
   "source": [
    "import numpy as np\n",
    "c = 3e8\n",
    "_lambda = np.array([365.0,404.7,435.8,546.1,577.0])\n",
    "_lambda *= 1e-9\n",
    "f = c/_lambda"
   ],
   "metadata": {
    "collapsed": false
   }
  },
  {
   "cell_type": "code",
   "execution_count": null,
   "outputs": [],
   "source": [
    "f*f"
   ],
   "metadata": {
    "collapsed": false
   }
  },
  {
   "cell_type": "code",
   "execution_count": null,
   "outputs": [],
   "source": [
    "f_f_bar = sum(f*f)/5\n",
    "f*f"
   ],
   "metadata": {
    "collapsed": false
   }
  },
  {
   "cell_type": "code",
   "execution_count": null,
   "outputs": [],
   "source": [
    "f_bar = sum(f)/f.shape[0]"
   ],
   "metadata": {
    "collapsed": false
   }
  },
  {
   "cell_type": "code",
   "execution_count": null,
   "outputs": [],
   "source": [
    "# (1.66+1.17+0.91+0.45+0.3)/5\n",
    "v = np.array([-1.66,-1.17,-0.91,-0.45,-0.3])\n",
    "v_bar = -np.sum(v)/5\n",
    "v_bar"
   ],
   "metadata": {
    "collapsed": false
   }
  },
  {
   "cell_type": "code",
   "execution_count": null,
   "outputs": [],
   "source": [
    "f_v_bar = np.sum(f*v)/5"
   ],
   "metadata": {
    "collapsed": false
   }
  },
  {
   "cell_type": "code",
   "execution_count": null,
   "outputs": [],
   "source": [
    "k = (f_bar*v_bar - f_v_bar)/(f_bar**2 - f_f_bar)"
   ],
   "metadata": {
    "collapsed": false
   }
  },
  {
   "cell_type": "code",
   "execution_count": null,
   "outputs": [],
   "source": [
    "k"
   ],
   "metadata": {
    "collapsed": false
   }
  },
  {
   "cell_type": "code",
   "execution_count": null,
   "outputs": [],
   "source": [
    "e = 1.6021766208e-19\n",
    "h = k*e"
   ],
   "metadata": {
    "collapsed": false
   }
  },
  {
   "cell_type": "code",
   "execution_count": null,
   "outputs": [],
   "source": [
    "h"
   ],
   "metadata": {
    "collapsed": false
   }
  },
  {
   "cell_type": "code",
   "execution_count": null,
   "outputs": [],
   "source": [
    "from sklearn.linear_model import LinearRegression\n",
    "\n",
    "linreg = LinearRegression()\n",
    "linreg.fit(f.reshape(-1,1),v.reshape(-1,1))"
   ],
   "metadata": {
    "collapsed": false
   }
  },
  {
   "cell_type": "code",
   "execution_count": null,
   "outputs": [],
   "source": [
    "import matplotlib.pyplot as plt\n",
    "plt.rcParams[\"font.sans-serif\"]=[\"SimHei\"] #设置字体\n",
    "plt.rcParams[\"axes.unicode_minus\"]=False #该语句解决图像中的“-”负号的乱码问题\n",
    "plt.plot(v,f)"
   ],
   "metadata": {
    "collapsed": false
   }
  },
  {
   "cell_type": "code",
   "execution_count": null,
   "outputs": [],
   "source": [
    "k = linreg.coef_\n",
    "k"
   ],
   "metadata": {
    "collapsed": false
   }
  },
  {
   "cell_type": "code",
   "execution_count": null,
   "outputs": [],
   "source": [
    "h = k*e"
   ],
   "metadata": {
    "collapsed": false
   }
  },
  {
   "cell_type": "code",
   "execution_count": null,
   "outputs": [],
   "source": [
    "h"
   ],
   "metadata": {
    "collapsed": false
   }
  },
  {
   "cell_type": "code",
   "execution_count": null,
   "outputs": [],
   "source": [
    "(6.626 - 6.838)/6.626"
   ],
   "metadata": {
    "collapsed": false
   }
  },
  {
   "cell_type": "code",
   "execution_count": null,
   "outputs": [],
   "source": [
    "linreg.intercept_"
   ],
   "metadata": {
    "collapsed": false
   }
  },
  {
   "cell_type": "code",
   "execution_count": null,
   "outputs": [],
   "source": [
    "\n",
    "\n",
    "U_1 = np.array([-2,-1.8,-1.6,-1.4,-1.2,-1.145,-1.0,-0.8,-0.6,-0.4,-0.2,0,0.25,0.5,0.75,1.0,1.25,1.5,1.75])\n",
    "U_2 = np.array([-2,-1.8,-1.6,-1.4,-1.2,-1.170,-1.0,-0.8,-0.6,-0.4,-0.2,0,0.25,0.5,0.75,1.0,1.25,1.5,1.75])\n",
    "\n",
    "I_1 = np.array([-1.0,-0.9,-0.8,-0.7,-0.2,0,1.7,6.7,14.1,23.2,33.7,45.8,62.6,81.3,101.5,123.2,146.5,170.5,196])\n",
    "plt.plot(U_1,I_1)\n",
    "plt.xlabel(\"$U_{ka}(v)$\")\n",
    "plt.ylabel(\"$I(10^{-12}A)$\")\n",
    "plt.title(\"$\\lambda = 435nm, \\phi = 4mm$\")"
   ],
   "metadata": {
    "collapsed": false
   }
  },
  {
   "cell_type": "code",
   "execution_count": null,
   "outputs": [],
   "source": [
    "I_2 = np.array([-3.2,-3.0,-2.7,-2.2,-0.3,0,7.5,27.1,56.6,94.6,138.4,187.9,293,370,454,543,637,735,839])\n",
    "plt.plot(U_2,I_2)\n",
    "\n",
    "plt.xlabel(\"$U_{ka}(V)$\")\n",
    "plt.ylabel(\"$I(10^{-12}A$\")\n",
    "plt.title(\"$\\lambda = 435nm,\\phi=8mm$\")"
   ],
   "metadata": {
    "collapsed": false
   }
  },
  {
   "cell_type": "code",
   "execution_count": null,
   "outputs": [],
   "source": [],
   "metadata": {
    "collapsed": false
   }
  },
  {
   "cell_type": "code",
   "execution_count": null,
   "outputs": [],
   "source": [],
   "metadata": {
    "collapsed": false
   }
  }
 ],
 "metadata": {
  "kernelspec": {
   "display_name": "Python 3",
   "language": "python",
   "name": "python3"
  },
  "language_info": {
   "codemirror_mode": {
    "name": "ipython",
    "version": 2
   },
   "file_extension": ".py",
   "mimetype": "text/x-python",
   "name": "python",
   "nbconvert_exporter": "python",
   "pygments_lexer": "ipython2",
   "version": "2.7.6"
  }
 },
 "nbformat": 4,
 "nbformat_minor": 0
}
